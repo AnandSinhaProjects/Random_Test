{
  "cells": [
    {
      "cell_type": "markdown",
      "metadata": {
        "id": "view-in-github",
        "colab_type": "text"
      },
      "source": [
        "<a href=\"https://colab.research.google.com/github/AnandSinhaProjects/Random_Test/blob/main/R_Projects/Handwriting_Recogniton/R_Project.ipynb\" target=\"_parent\"><img src=\"https://colab.research.google.com/assets/colab-badge.svg\" alt=\"Open In Colab\"/></a>"
      ]
    },
    {
      "cell_type": "code",
      "execution_count": null,
      "metadata": {
        "id": "xDn-I-MkA-_c"
      },
      "outputs": [],
      "source": [
        "data <- read.csv(\"train.csv\")"
      ]
    },
    {
      "cell_type": "code",
      "execution_count": null,
      "metadata": {
        "colab": {
          "base_uri": "https://localhost:8080/",
          "height": 35
        },
        "id": "wOytbmWCClF-",
        "outputId": "9790157b-91dc-4134-fc8c-0518e31b1a1f"
      },
      "outputs": [
        {
          "output_type": "display_data",
          "data": {
            "text/plain": [
              "[1] 42000   785"
            ],
            "text/latex": "\\begin{enumerate*}\n\\item 42000\n\\item 785\n\\end{enumerate*}\n",
            "text/markdown": "1. 42000\n2. 785\n\n\n",
            "text/html": [
              "<style>\n",
              ".list-inline {list-style: none; margin:0; padding: 0}\n",
              ".list-inline>li {display: inline-block}\n",
              ".list-inline>li:not(:last-child)::after {content: \"\\00b7\"; padding: 0 .5ex}\n",
              "</style>\n",
              "<ol class=list-inline><li>42000</li><li>785</li></ol>\n"
            ]
          },
          "metadata": {}
        }
      ],
      "source": [
        "dim(data)"
      ]
    },
    {
      "cell_type": "code",
      "execution_count": null,
      "metadata": {
        "colab": {
          "base_uri": "https://localhost:8080/",
          "height": 286
        },
        "id": "bmrkTh91D8nd",
        "outputId": "0fd81264-4b73-4199-9fcd-f7c42016e788"
      },
      "outputs": [
        {
          "output_type": "display_data",
          "data": {
            "text/plain": [
              "  label pixel0 pixel1 pixel2 pixel3 pixel4\n",
              "1 1     0      0      0      0      0     \n",
              "2 0     0      0      0      0      0     \n",
              "3 1     0      0      0      0      0     \n",
              "4 4     0      0      0      0      0     \n",
              "5 0     0      0      0      0      0     \n",
              "6 0     0      0      0      0      0     "
            ],
            "text/latex": "A data.frame: 6 × 6\n\\begin{tabular}{r|llllll}\n  & label & pixel0 & pixel1 & pixel2 & pixel3 & pixel4\\\\\n  & <int> & <int> & <int> & <int> & <int> & <int>\\\\\n\\hline\n\t1 & 1 & 0 & 0 & 0 & 0 & 0\\\\\n\t2 & 0 & 0 & 0 & 0 & 0 & 0\\\\\n\t3 & 1 & 0 & 0 & 0 & 0 & 0\\\\\n\t4 & 4 & 0 & 0 & 0 & 0 & 0\\\\\n\t5 & 0 & 0 & 0 & 0 & 0 & 0\\\\\n\t6 & 0 & 0 & 0 & 0 & 0 & 0\\\\\n\\end{tabular}\n",
            "text/markdown": "\nA data.frame: 6 × 6\n\n| <!--/--> | label &lt;int&gt; | pixel0 &lt;int&gt; | pixel1 &lt;int&gt; | pixel2 &lt;int&gt; | pixel3 &lt;int&gt; | pixel4 &lt;int&gt; |\n|---|---|---|---|---|---|---|\n| 1 | 1 | 0 | 0 | 0 | 0 | 0 |\n| 2 | 0 | 0 | 0 | 0 | 0 | 0 |\n| 3 | 1 | 0 | 0 | 0 | 0 | 0 |\n| 4 | 4 | 0 | 0 | 0 | 0 | 0 |\n| 5 | 0 | 0 | 0 | 0 | 0 | 0 |\n| 6 | 0 | 0 | 0 | 0 | 0 | 0 |\n\n",
            "text/html": [
              "<table class=\"dataframe\">\n",
              "<caption>A data.frame: 6 × 6</caption>\n",
              "<thead>\n",
              "\t<tr><th></th><th scope=col>label</th><th scope=col>pixel0</th><th scope=col>pixel1</th><th scope=col>pixel2</th><th scope=col>pixel3</th><th scope=col>pixel4</th></tr>\n",
              "\t<tr><th></th><th scope=col>&lt;int&gt;</th><th scope=col>&lt;int&gt;</th><th scope=col>&lt;int&gt;</th><th scope=col>&lt;int&gt;</th><th scope=col>&lt;int&gt;</th><th scope=col>&lt;int&gt;</th></tr>\n",
              "</thead>\n",
              "<tbody>\n",
              "\t<tr><th scope=row>1</th><td>1</td><td>0</td><td>0</td><td>0</td><td>0</td><td>0</td></tr>\n",
              "\t<tr><th scope=row>2</th><td>0</td><td>0</td><td>0</td><td>0</td><td>0</td><td>0</td></tr>\n",
              "\t<tr><th scope=row>3</th><td>1</td><td>0</td><td>0</td><td>0</td><td>0</td><td>0</td></tr>\n",
              "\t<tr><th scope=row>4</th><td>4</td><td>0</td><td>0</td><td>0</td><td>0</td><td>0</td></tr>\n",
              "\t<tr><th scope=row>5</th><td>0</td><td>0</td><td>0</td><td>0</td><td>0</td><td>0</td></tr>\n",
              "\t<tr><th scope=row>6</th><td>0</td><td>0</td><td>0</td><td>0</td><td>0</td><td>0</td></tr>\n",
              "</tbody>\n",
              "</table>\n"
            ]
          },
          "metadata": {}
        }
      ],
      "source": [
        "head(data[1:6])"
      ]
    },
    {
      "cell_type": "code",
      "execution_count": null,
      "metadata": {
        "colab": {
          "base_uri": "https://localhost:8080/",
          "height": 35
        },
        "id": "QwqXOU2MEDBw",
        "outputId": "97883df6-0911-46f3-bad9-9225f3448d62"
      },
      "outputs": [
        {
          "output_type": "display_data",
          "data": {
            "text/plain": [
              " [1] 1 0 4 7 3 5 8 9 2 6"
            ],
            "text/latex": "\\begin{enumerate*}\n\\item 1\n\\item 0\n\\item 4\n\\item 7\n\\item 3\n\\item 5\n\\item 8\n\\item 9\n\\item 2\n\\item 6\n\\end{enumerate*}\n",
            "text/markdown": "1. 1\n2. 0\n3. 4\n4. 7\n5. 3\n6. 5\n7. 8\n8. 9\n9. 2\n10. 6\n\n\n",
            "text/html": [
              "<style>\n",
              ".list-inline {list-style: none; margin:0; padding: 0}\n",
              ".list-inline>li {display: inline-block}\n",
              ".list-inline>li:not(:last-child)::after {content: \"\\00b7\"; padding: 0 .5ex}\n",
              "</style>\n",
              "<ol class=list-inline><li>1</li><li>0</li><li>4</li><li>7</li><li>3</li><li>5</li><li>8</li><li>9</li><li>2</li><li>6</li></ol>\n"
            ]
          },
          "metadata": {}
        }
      ],
      "source": [
        "unique(unlist(data[1]))"
      ]
    },
    {
      "cell_type": "code",
      "execution_count": null,
      "metadata": {
        "colab": {
          "base_uri": "https://localhost:8080/",
          "height": 35
        },
        "id": "a4Km75BIEJgn",
        "outputId": "66a2b80f-fb0b-4c27-914c-70bda4b778cf"
      },
      "outputs": [
        {
          "output_type": "display_data",
          "data": {
            "text/plain": [
              "[1] 0"
            ],
            "text/latex": "0",
            "text/markdown": "0",
            "text/html": [
              "0"
            ]
          },
          "metadata": {}
        }
      ],
      "source": [
        "min(data[2:785])"
      ]
    },
    {
      "cell_type": "code",
      "execution_count": null,
      "metadata": {
        "colab": {
          "base_uri": "https://localhost:8080/",
          "height": 35
        },
        "id": "Qm1pp2k4EN3E",
        "outputId": "5fa97483-e563-4c8d-f272-cca1c4585ee1"
      },
      "outputs": [
        {
          "output_type": "display_data",
          "data": {
            "text/plain": [
              "[1] 255"
            ],
            "text/latex": "255",
            "text/markdown": "255",
            "text/html": [
              "255"
            ]
          },
          "metadata": {}
        }
      ],
      "source": [
        "max(data[2:785])"
      ]
    },
    {
      "cell_type": "code",
      "execution_count": null,
      "metadata": {
        "colab": {
          "base_uri": "https://localhost:8080/",
          "height": 437
        },
        "id": "xQR9K3NfEXQg",
        "outputId": "6d3faf27-34f4-4c98-d80d-036511fe5219"
      },
      "outputs": [
        {
          "output_type": "display_data",
          "data": {
            "image/png": "[encoded data removed]",
            "text/plain": [
              "plot without title"
            ]
          },
          "metadata": {
            "image/png": {
              "width": 420,
              "height": 420
            }
          }
        }
      ],
      "source": [
        "sample_4 <- matrix(as.numeric(data[4, -1]),nrow = 28, byrow = TRUE)\n",
        "image(sample_4, col=grey.colors(255)) "
      ]
    },
    {
      "cell_type": "code",
      "execution_count": null,
      "metadata": {
        "colab": {
          "base_uri": "https://localhost:8080/",
          "height": 437
        },
        "id": "3ciUg16jE84A",
        "outputId": "7496c7cc-2241-4eb8-d788-ef81e9e5b362"
      },
      "outputs": [
        {
          "output_type": "display_data",
          "data": {
            "image/png": "[encoded data removed]",
            "text/plain": [
              "plot without title"
            ]
          },
          "metadata": {
            "image/png": {
              "width": 420,
              "height": 420
            }
          }
        }
      ],
      "source": [
        "sample_7<-matrix(as.numeric(data[7,-1]), nrow=28, byrow = TRUE)\n",
        "image(sample_7, col = grey.colors(255))"
      ]
    },
    {
      "cell_type": "code",
      "execution_count": null,
      "metadata": {
        "id": "F7IPxykCFgD6"
      },
      "outputs": [],
      "source": [
        "rotate <- function(x) t(apply(x, 2, rev))"
      ]
    },
    {
      "cell_type": "code",
      "execution_count": null,
      "metadata": {
        "colab": {
          "base_uri": "https://localhost:8080/",
          "height": 437
        },
        "id": "MA3tVmO6Fr2V",
        "outputId": "c45226bf-027e-45f7-c341-f1b5238e1694"
      },
      "outputs": [
        {
          "output_type": "display_data",
          "data": {
            "image/png": "[encoded data removed]",
            "text/plain": [
              "plot without title"
            ]
          },
          "metadata": {
            "image/png": {
              "width": 420,
              "height": 420
            }
          }
        }
      ],
      "source": [
        "image(rotate(sample_7),col = grey.colors(255))"
      ]
    },
    {
      "cell_type": "code",
      "execution_count": null,
      "metadata": {
        "colab": {
          "base_uri": "https://localhost:8080/",
          "height": 437
        },
        "id": "8fADZyXWFzRx",
        "outputId": "9aa43cb8-6917-4d17-c635-99abf4496b11"
      },
      "outputs": [
        {
          "output_type": "display_data",
          "data": {
            "image/png": "[encoded data removed]",
            "text/plain": [
              "plot without title"
            ]
          },
          "metadata": {
            "image/png": {
              "width": 420,
              "height": 420
            }
          }
        }
      ],
      "source": [
        "image(rotate(sample_4), col = grey.colors(255))"
      ]
    },
    {
      "cell_type": "code",
      "execution_count": null,
      "metadata": {
        "colab": {
          "base_uri": "https://localhost:8080/",
          "height": 35
        },
        "id": "r1okDHXAHtki",
        "outputId": "ce234c17-d3ec-4887-dc0d-9155f8ba56bd"
      },
      "outputs": [
        {
          "output_type": "display_data",
          "data": {
            "text/plain": [
              "[1] FALSE"
            ],
            "text/latex": "FALSE",
            "text/markdown": "FALSE",
            "text/html": [
              "FALSE"
            ]
          },
          "metadata": {}
        }
      ],
      "source": [
        "is.factor(data$label)"
      ]
    },
    {
      "cell_type": "code",
      "execution_count": null,
      "metadata": {
        "id": "VNpOvhTcH3HN"
      },
      "outputs": [],
      "source": [
        "data$label<-as.factor(data$label)"
      ]
    },
    {
      "cell_type": "code",
      "execution_count": null,
      "metadata": {
        "colab": {
          "base_uri": "https://localhost:8080/",
          "height": 35
        },
        "id": "0HvP9F1zIC5d",
        "outputId": "60804b67-81f7-4a85-d8db-91367b50ef3c"
      },
      "outputs": [
        {
          "output_type": "display_data",
          "data": {
            "text/plain": [
              "[1] TRUE"
            ],
            "text/latex": "TRUE",
            "text/markdown": "TRUE",
            "text/html": [
              "TRUE"
            ]
          },
          "metadata": {}
        }
      ],
      "source": [
        "is.factor(data$label)"
      ]
    },
    {
      "cell_type": "code",
      "execution_count": null,
      "metadata": {
        "colab": {
          "base_uri": "https://localhost:8080/",
          "height": 52
        },
        "id": "KMrlRJ6RIGOe",
        "outputId": "937b497e-1454-433f-add4-e0e466282aaa"
      },
      "outputs": [
        {
          "output_type": "display_data",
          "data": {
            "text/plain": [
              "   0    1    2    3    4    5    6    7    8    9 \n",
              "4132 4684 4177 4351 4072 3795 4137 4401 4063 4188 "
            ],
            "text/latex": "\\begin{description*}\n\\item[0] 4132\n\\item[1] 4684\n\\item[2] 4177\n\\item[3] 4351\n\\item[4] 4072\n\\item[5] 3795\n\\item[6] 4137\n\\item[7] 4401\n\\item[8] 4063\n\\item[9] 4188\n\\end{description*}\n",
            "text/markdown": "0\n:   41321\n:   46842\n:   41773\n:   43514\n:   40725\n:   37956\n:   41377\n:   44018\n:   40639\n:   4188\n\n",
            "text/html": [
              "<style>\n",
              ".dl-inline {width: auto; margin:0; padding: 0}\n",
              ".dl-inline>dt, .dl-inline>dd {float: none; width: auto; display: inline-block}\n",
              ".dl-inline>dt::after {content: \":\\0020\"; padding-right: .5ex}\n",
              ".dl-inline>dt:not(:first-of-type) {padding-left: .5ex}\n",
              "</style><dl class=dl-inline><dt>0</dt><dd>4132</dd><dt>1</dt><dd>4684</dd><dt>2</dt><dd>4177</dd><dt>3</dt><dd>4351</dd><dt>4</dt><dd>4072</dd><dt>5</dt><dd>3795</dd><dt>6</dt><dd>4137</dd><dt>7</dt><dd>4401</dd><dt>8</dt><dd>4063</dd><dt>9</dt><dd>4188</dd></dl>\n"
            ]
          },
          "metadata": {}
        }
      ],
      "source": [
        "summary(data$label)"
      ]
    },
    {
      "cell_type": "code",
      "execution_count": null,
      "metadata": {
        "id": "uXQK7MEeIKoB"
      },
      "outputs": [],
      "source": [
        "proportions <- prop.table(table(data$label))*100"
      ]
    },
    {
      "cell_type": "code",
      "execution_count": null,
      "metadata": {
        "colab": {
          "base_uri": "https://localhost:8080/",
          "height": 380
        },
        "id": "jT2T8MZLI3uh",
        "outputId": "b1094fdb-f088-4b09-d7d8-e67876139b62"
      },
      "outputs": [
        {
          "output_type": "display_data",
          "data": {
            "text/plain": [
              "  count proportions\n",
              "0 4132   9.838095  \n",
              "1 4684  11.152381  \n",
              "2 4177   9.945238  \n",
              "3 4351  10.359524  \n",
              "4 4072   9.695238  \n",
              "5 3795   9.035714  \n",
              "6 4137   9.850000  \n",
              "7 4401  10.478571  \n",
              "8 4063   9.673810  \n",
              "9 4188   9.971429  "
            ],
            "text/latex": "A matrix: 10 × 2 of type dbl\n\\begin{tabular}{r|ll}\n  & count & proportions\\\\\n\\hline\n\t0 & 4132 &  9.838095\\\\\n\t1 & 4684 & 11.152381\\\\\n\t2 & 4177 &  9.945238\\\\\n\t3 & 4351 & 10.359524\\\\\n\t4 & 4072 &  9.695238\\\\\n\t5 & 3795 &  9.035714\\\\\n\t6 & 4137 &  9.850000\\\\\n\t7 & 4401 & 10.478571\\\\\n\t8 & 4063 &  9.673810\\\\\n\t9 & 4188 &  9.971429\\\\\n\\end{tabular}\n",
            "text/markdown": "\nA matrix: 10 × 2 of type dbl\n\n| <!--/--> | count | proportions |\n|---|---|---|\n| 0 | 4132 |  9.838095 |\n| 1 | 4684 | 11.152381 |\n| 2 | 4177 |  9.945238 |\n| 3 | 4351 | 10.359524 |\n| 4 | 4072 |  9.695238 |\n| 5 | 3795 |  9.035714 |\n| 6 | 4137 |  9.850000 |\n| 7 | 4401 | 10.478571 |\n| 8 | 4063 |  9.673810 |\n| 9 | 4188 |  9.971429 |\n\n",
            "text/html": [
              "<table class=\"dataframe\">\n",
              "<caption>A matrix: 10 × 2 of type dbl</caption>\n",
              "<thead>\n",
              "\t<tr><th></th><th scope=col>count</th><th scope=col>proportions</th></tr>\n",
              "</thead>\n",
              "<tbody>\n",
              "\t<tr><th scope=row>0</th><td>4132</td><td> 9.838095</td></tr>\n",
              "\t<tr><th scope=row>1</th><td>4684</td><td>11.152381</td></tr>\n",
              "\t<tr><th scope=row>2</th><td>4177</td><td> 9.945238</td></tr>\n",
              "\t<tr><th scope=row>3</th><td>4351</td><td>10.359524</td></tr>\n",
              "\t<tr><th scope=row>4</th><td>4072</td><td> 9.695238</td></tr>\n",
              "\t<tr><th scope=row>5</th><td>3795</td><td> 9.035714</td></tr>\n",
              "\t<tr><th scope=row>6</th><td>4137</td><td> 9.850000</td></tr>\n",
              "\t<tr><th scope=row>7</th><td>4401</td><td>10.478571</td></tr>\n",
              "\t<tr><th scope=row>8</th><td>4063</td><td> 9.673810</td></tr>\n",
              "\t<tr><th scope=row>9</th><td>4188</td><td> 9.971429</td></tr>\n",
              "</tbody>\n",
              "</table>\n"
            ]
          },
          "metadata": {}
        }
      ],
      "source": [
        "cbind(count=table(data$label), proportions=proportions)"
      ]
    },
    {
      "cell_type": "code",
      "execution_count": null,
      "metadata": {
        "id": "Bclmo795JHQy"
      },
      "outputs": [],
      "source": [
        "central_block <- c(\"pixel1376\",\"pixel377\",\"pixel1404\",\"pixel1405\")"
      ]
    },
    {
      "cell_type": "code",
      "execution_count": null,
      "metadata": {
        "id": "68rrTvKdJkD4"
      },
      "outputs": [],
      "source": [
        "par(mfrow=c(2,2))"
      ]
    },
    {
      "cell_type": "code",
      "execution_count": null,
      "metadata": {
        "id": "wJQAEI6lJwxG"
      },
      "outputs": [],
      "source": [
        "#for(i in 1:9){\n",
        " # hist(c(as.matrix(data[data$label==i, central_block])),\n",
        "  #main=sprintf(\"Histogram for digit %d\", i),\n",
        "  #xlab=\"Pixel value\")\n",
        "#}"
      ]
    },
    {
      "cell_type": "code",
      "execution_count": null,
      "metadata": {
        "colab": {
          "base_uri": "https://localhost:8080/"
        },
        "id": "jmm2yugtJ1P5",
        "outputId": "0f29e497-e182-4902-f9a7-d67247b260d7"
      },
      "outputs": [
        {
          "output_type": "stream",
          "name": "stderr",
          "text": [
            "Installing package into ‘/usr/local/lib/R/site-library’\n",
            "(as ‘lib’ is unspecified)\n",
            "\n"
          ]
        }
      ],
      "source": [
        "install.packages('caret')"
      ]
    },
    {
      "cell_type": "code",
      "execution_count": null,
      "metadata": {
        "id": "ykBrs1Qx5w4G"
      },
      "outputs": [],
      "source": [
        "library('caret')"
      ]
    },
    {
      "cell_type": "code",
      "execution_count": null,
      "metadata": {
        "id": "U2owDUHt6_w4"
      },
      "outputs": [],
      "source": [
        "set.seed(42)"
      ]
    },
    {
      "cell_type": "code",
      "execution_count": null,
      "metadata": {
        "id": "1t9PYz_87bwa"
      },
      "outputs": [],
      "source": [
        "train_perc = 0.75"
      ]
    },
    {
      "cell_type": "code",
      "execution_count": null,
      "metadata": {
        "id": "Zo0Jo1Jx7t76"
      },
      "outputs": [],
      "source": [
        "train_index = createDataPartition(data$label, p=train_perc, list=FALSE)"
      ]
    },
    {
      "cell_type": "code",
      "execution_count": null,
      "metadata": {
        "id": "-DHwkk1O791d"
      },
      "outputs": [],
      "source": [
        "data_train <- data[train_index,]\n",
        "data_test <- data[-train_index,]"
      ]
    },
    {
      "cell_type": "code",
      "execution_count": null,
      "metadata": {
        "id": "zwX2uBAVW_Wj"
      },
      "outputs": [],
      "source": [
        "library(nnet)"
      ]
    },
    {
      "cell_type": "markdown",
      "metadata": {
        "id": "WHowA61oXqpI"
      },
      "source": [
        "### MULTINOMINAL LOGISTIC REGRESSION"
      ]
    },
    {
      "cell_type": "code",
      "execution_count": null,
      "metadata": {
        "colab": {
          "base_uri": "https://localhost:8080/"
        },
        "id": "8soCWllpXl_q",
        "outputId": "421d5dda-2d8c-4602-972e-cb2abfaf5313"
      },
      "outputs": [
        {
          "output_type": "stream",
          "name": "stdout",
          "text": [
            "# weights:  7860 (7065 variable)\n",
            "initial  value 72538.338185 \n",
            "iter  10 value 17167.287206\n",
            "iter  20 value 11143.319043\n",
            "iter  30 value 9585.761246\n",
            "iter  40 value 8886.505538\n",
            "iter  50 value 8468.049869\n",
            "iter  60 value 8197.268142\n",
            "iter  70 value 8037.098299\n",
            "iter  80 value 7920.335345\n",
            "iter  90 value 7848.282919\n",
            "iter 100 value 7781.881284\n",
            "final  value 7781.881284 \n",
            "stopped after 100 iterations\n"
          ]
        }
      ],
      "source": [
        "model_lr <- multinom(label ~.,data = data_train, MaxNWts=10000, decay=5e-3, maxit=100)"
      ]
    },
    {
      "cell_type": "code",
      "execution_count": null,
      "metadata": {
        "id": "nr4GJhMlYWrX",
        "colab": {
          "base_uri": "https://localhost:8080/",
          "height": 131
        },
        "outputId": "6276a22d-d826-4e82-e1f8-a315529dbd76"
      },
      "outputs": [
        {
          "output_type": "error",
          "ename": "ERROR",
          "evalue": "ignored",
          "traceback": [
            "Error in predict(model_lr, data_test, type = \"class\"): object 'model_lr' not found\nTraceback:\n",
            "1. predict(model_lr, data_test, type = \"class\")"
          ]
        }
      ],
      "source": [
        "prediction_lr <- predict(model_lr, data_test, type='class')"
      ]
    },
    {
      "cell_type": "code",
      "execution_count": null,
      "metadata": {
        "colab": {
          "base_uri": "https://localhost:8080/",
          "height": 225
        },
        "id": "5pbBuU2OZNqG",
        "outputId": "52d2949b-4ccc-41a5-863e-cc0710597438"
      },
      "outputs": [
        {
          "output_type": "display_data",
          "data": {
            "text/plain": [
              "   prediction_lr\n",
              "       0    1    2    3    4    5    6    7    8    9\n",
              "  0  963    0   12    4    4   11   25    6    4    4\n",
              "  1    0 1115    8    8    2    2    3    4   26    3\n",
              "  2    5   12  931   19    7    5   18   14   27    6\n",
              "  3    5    5   49  916    1   43    7   13   32   16\n",
              "  4    2    7   15    5  906    1   14    8   16   44\n",
              "  5   16    7   19   37   10  734   27    8   63   27\n",
              "  6    9    4   23    0    9   11  968    2    8    0\n",
              "  7    0    6   19    9    9    1    0  991    8   57\n",
              "  8    8   14   14   29    8   26   10    6  872   28\n",
              "  9    7    3    4   12   32    3    0   46   21  919"
            ]
          },
          "metadata": {}
        }
      ],
      "source": [
        "cm_lr= table(data_test$label, prediction_lr)\n",
        "cm_lr"
      ]
    },
    {
      "cell_type": "code",
      "execution_count": null,
      "metadata": {
        "colab": {
          "base_uri": "https://localhost:8080/",
          "height": 35
        },
        "id": "basdzKBZZWS1",
        "outputId": "ef0044bc-51dd-4376-8874-e16d5c99edd0"
      },
      "outputs": [
        {
          "output_type": "display_data",
          "data": {
            "text/plain": [
              "[1] 0.8873964"
            ],
            "text/latex": "0.887396398971135",
            "text/markdown": "0.887396398971135",
            "text/html": [
              "0.887396398971135"
            ]
          },
          "metadata": {}
        }
      ],
      "source": [
        "accuracy_lr = mean(prediction_lr==data_test$label)\n",
        "accuracy_lr"
      ]
    },
    {
      "cell_type": "markdown",
      "metadata": {
        "id": "exHBUYf8eBZj"
      },
      "source": [
        "### Single Layer Neural Network\n"
      ]
    },
    {
      "cell_type": "code",
      "execution_count": null,
      "metadata": {
        "colab": {
          "base_uri": "https://localhost:8080/"
        },
        "id": "rmg5SLcxZg4-",
        "outputId": "a575e869-c344-4748-9b39-ef8e784df92b"
      },
      "outputs": [
        {
          "output_type": "stream",
          "name": "stdout",
          "text": [
            "# weights:  39760\n"
          ]
        }
      ],
      "source": [
        "model_nn<- nnet(label ~.,data=data_train, size=50, maxit=300, MaxNWts = 100000, decay=1e-4)"
      ]
    },
    {
      "cell_type": "code",
      "execution_count": null,
      "metadata": {
        "id": "Bibjf3zDdKdn"
      },
      "outputs": [],
      "source": [
        "prediction_nn<- predict(  model_nn, data_test, type='class')"
      ]
    },
    {
      "cell_type": "code",
      "execution_count": null,
      "metadata": {
        "id": "IvA0f1kJdmHA"
      },
      "outputs": [],
      "source": [
        "cm_nn= table(data_test$label, prediction_nn)"
      ]
    },
    {
      "cell_type": "code",
      "execution_count": null,
      "metadata": {
        "id": "eLoU8Nfgdtnh"
      },
      "outputs": [],
      "source": [
        "cm_nn"
      ]
    },
    {
      "cell_type": "code",
      "execution_count": null,
      "metadata": {
        "id": "FrTANPQvdu54"
      },
      "outputs": [],
      "source": [
        "accuracy_nn = mean(prediction_nn==data_test$label)\n",
        "accuracy_nn"
      ]
    },
    {
      "cell_type": "code",
      "execution_count": null,
      "metadata": {
        "id": "TE8EhD20d6Il"
      },
      "outputs": [],
      "source": [
        "cran <- getOption(\"repos\")\n",
        "cran[\"dmlc\"] <- \"https://s3-us-west-2.amazonaws.com/apache-mxnet/R/CRAN/\"\n",
        "options(repo=cran)\n",
        "if(!require(\"mxnet\"))\n",
        "install.packages(\"mxnet\")"
      ]
    },
    {
      "cell_type": "code",
      "execution_count": null,
      "metadata": {
        "id": "kCixRe86ep-9"
      },
      "outputs": [],
      "source": [
        "require(mxnet)\n",
        "data_train<-data.matrix(data_train)\n",
        "data_train.x <- data_train[,-1]\n",
        "data_train.x <- t(data_train.x/255)\n",
        "data_train.y <- data_train[,1]"
      ]
    },
    {
      "cell_type": "code",
      "execution_count": null,
      "metadata": {
        "id": "UW1Jyg1_fG0z"
      },
      "outputs": [],
      "source": [
        "data <mx.symbol.Variable(\"data\")\n",
        "fc1 <- mx.symbol.FullyConnected(data, name=\"fc1\", num_hidden=128)\n",
        "act1<-mx.symbol.Activation(fc1, name=\"relu1\", act_type=\"relu\")\n",
        "fc2 <- mx.symbol.FullyConnected(act1, name=\"fc2\", num_hidden=64)\n",
        "act2<-mx.symbol.Activation(fc2, name=\"relu2\", act_type=\"relu\")\n",
        "fc3<-mx.symbol.FullyConnected(act2, name=\"fc3\", num_hidden=10)\n",
        "softmax<-mx.symbol.SoftmaxOutput(fc3, name=\"sm\")"
      ]
    },
    {
      "cell_type": "code",
      "execution_count": null,
      "metadata": {
        "id": "jNWGn2TJg-aC"
      },
      "outputs": [],
      "source": [
        "mx.set.seed(42)"
      ]
    },
    {
      "cell_type": "code",
      "execution_count": null,
      "metadata": {
        "id": "YqdiVziBhRCo"
      },
      "outputs": [],
      "source": [
        "devices<-mx.gpu()"
      ]
    },
    {
      "cell_type": "code",
      "execution_count": null,
      "metadata": {
        "id": "v-BYLa6xhBRr"
      },
      "outputs": [],
      "source": [
        "model_dnn <- mx.model.FeedForward.create(softmax, x=data_train.x, y=data_train.y,ctx=devices, num_round=30, array.batch.size=100, \n",
        "learning_rate=0.01, momentum=0.9, eval_metric=mx.metric.accuracy, initializer=mx.init.uniform(0.1), \n",
        "epoch.end.callback=mx.callback.log.train.metric(100))"
      ]
    },
    {
      "cell_type": "code",
      "execution_count": null,
      "metadata": {
        "id": "1KMl8xQJiGkb"
      },
      "outputs": [],
      "source": [
        ""
      ]
    }
  ],
  "metadata": {
    "colab": {
      "name": "R_Project.ipynb",
      "provenance": [],
      "machine_shape": "hm",
      "authorship_tag": "ABX9TyP4ArJehPvgSYjH+zNBbdYu",
      "include_colab_link": true
    },
    "kernelspec": {
      "display_name": "R",
      "name": "ir"
    },
    "language_info": {
      "name": "R"
    },
    "accelerator": "GPU"
  },
  "nbformat": 4,
  "nbformat_minor": 0
}